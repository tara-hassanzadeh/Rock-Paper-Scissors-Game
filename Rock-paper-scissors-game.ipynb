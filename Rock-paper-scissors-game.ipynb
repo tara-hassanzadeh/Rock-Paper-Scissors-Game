{
  "nbformat": 4,
  "nbformat_minor": 0,
  "metadata": {
    "colab": {
      "provenance": [],
      "authorship_tag": "ABX9TyNqPfeqYen4LWcC+ZbCA1EL",
      "include_colab_link": true
    },
    "kernelspec": {
      "name": "python3",
      "display_name": "Python 3"
    },
    "language_info": {
      "name": "python"
    }
  },
  "cells": [
    {
      "cell_type": "markdown",
      "metadata": {
        "id": "view-in-github",
        "colab_type": "text"
      },
      "source": [
        "<a href=\"https://colab.research.google.com/github/tara-hassanzadeh/Rock-Paper-Scissors-Game/blob/main/Rock-paper-scissors-game.ipynb\" target=\"_parent\"><img src=\"https://colab.research.google.com/assets/colab-badge.svg\" alt=\"Open In Colab\"/></a>"
      ]
    },
    {
      "cell_type": "markdown",
      "source": [
        "Rock-Paper-Scissors Game"
      ],
      "metadata": {
        "id": "Nej8Vybqo5F_"
      }
    },
    {
      "cell_type": "code",
      "execution_count": 4,
      "metadata": {
        "colab": {
          "base_uri": "https://localhost:8080/"
        },
        "id": "kY8kQG6bo4PG",
        "outputId": "b6f52661-82a2-4c59-a02e-b0ccda99d2ec"
      },
      "outputs": [
        {
          "output_type": "stream",
          "name": "stdout",
          "text": [
            "please enter(rock,paper,scissors)rock\n",
            "computer paper\n",
            "player rock\n",
            "you lose. computer win\n"
          ]
        }
      ],
      "source": [
        "import random\n",
        "def play_game():\n",
        "  options=[\"rock\" , \"paper\" , \"scissors\"]\n",
        "  computer=random.choice(options)\n",
        "  player=input(\"please enter(rock,paper,scissors)\")\n",
        "  if player not in options:\n",
        "    print(\"invalid input\")\n",
        "    return\n",
        "  print(f\"computer {computer}\")\n",
        "  print(f\"player {player}\")\n",
        "  if player==computer:\n",
        "      print(\"it's a tie\")\n",
        "  elif player==\"rock\" and computer==\"scissors\":\n",
        "      print(\"you win\")\n",
        "  elif player==\"paper\" and computer==\"rock\":\n",
        "      print(\"you win\")\n",
        "  elif player==\"scissors\" and computer==\"paper\":\n",
        "      print(\"you win\")\n",
        "  else:\n",
        "        print(\"you lose. computer win\")\n",
        "play_game()"
      ]
    }
  ]
}